{
 "cells": [
  {
   "cell_type": "markdown",
   "id": "5a2f67f7",
   "metadata": {},
   "source": [
    "# (Text Document Similarity Code)"
   ]
  },
  {
   "cell_type": "markdown",
   "id": "d0dd1d0b",
   "metadata": {},
   "source": [
    "### The code is devided in two segments, one for finding matching words list, the other for finding similarity percentage"
   ]
  },
  {
   "cell_type": "markdown",
   "id": "44502629",
   "metadata": {},
   "source": [
    "### Part 1: matching words list"
   ]
  },
  {
   "cell_type": "code",
   "execution_count": 1,
   "id": "ebba9b72",
   "metadata": {},
   "outputs": [],
   "source": [
    "###### First We Define a corpus which is a list of documents"
   ]
  },
  {
   "cell_type": "code",
   "execution_count": 3,
   "id": "bc6a2fdb",
   "metadata": {},
   "outputs": [],
   "source": [
    "corpus=['When you are old and grey and full of sleep,',\n",
    "'And nodding by the fire, take down this book,',\n",
    "'And slowly read, and dream of the soft look',\n",
    "'Your eyes had once, and of their shadows deep;',\n",
    "'',\n",
    "'How many loved your moments of glad grace,',\n",
    "'And loved your beauty with love false or true,',\n",
    "'But one man loved the pilgrim soul in you,',\n",
    "'And loved the sorrows of your changing face;',\n",
    "'',\n",
    "'And bending down beside the glowing bars,',\n",
    "'Murmur, a little sadly, how Love fled',\n",
    "'And paced upon the mountains overhead',\n",
    "'And hid his face amid a crowd of stars.',\n",
    "'-When You Are Old ',\n",
    "'-Yeats']"
   ]
  },
  {
   "cell_type": "code",
   "execution_count": 4,
   "id": "8bc94b86",
   "metadata": {},
   "outputs": [],
   "source": [
    "###### Data Cleaning function (removing all punctuations, whitespaces and transforming everything into lowercase)\n",
    "import re\n",
    "    \n",
    "def cleaner(x):   \n",
    "    x=\" \".join(map(str,x))\n",
    "    x=re.sub(r\"\\W\",\" \",x) \n",
    "    x=re.sub(' +', ' ',x) \n",
    "    x=x.lower()\n",
    "    return x.split()"
   ]
  },
  {
   "cell_type": "code",
   "execution_count": 5,
   "id": "7e87e008",
   "metadata": {},
   "outputs": [],
   "source": [
    "###### Then we make a list of elements with all the words to build our dictionary\n",
    "final_list=cleaner(corpus)\n"
   ]
  },
  {
   "cell_type": "code",
   "execution_count": 6,
   "id": "e0f2ab03",
   "metadata": {},
   "outputs": [
    {
     "name": "stdout",
     "output_type": "stream",
     "text": [
      "{'when': 2, 'you': 3, 'are': 2, 'old': 2, 'and': 11, 'grey': 1, 'full': 1, 'of': 6, 'sleep': 1, 'nodding': 1, 'by': 1, 'the': 6, 'fire': 1, 'take': 1, 'down': 2, 'this': 1, 'book': 1, 'slowly': 1, 'read': 1, 'dream': 1, 'soft': 1, 'look': 1, 'your': 4, 'eyes': 1, 'had': 1, 'once': 1, 'their': 1, 'shadows': 1, 'deep': 1, 'how': 2, 'many': 1, 'loved': 4, 'moments': 1, 'glad': 1, 'grace': 1, 'beauty': 1, 'with': 1, 'love': 2, 'false': 1, 'or': 1, 'true': 1, 'but': 1, 'one': 1, 'man': 1, 'pilgrim': 1, 'soul': 1, 'in': 1, 'sorrows': 1, 'changing': 1, 'face': 2, 'bending': 1, 'beside': 1, 'glowing': 1, 'bars': 1, 'murmur': 1, 'a': 2, 'little': 1, 'sadly': 1, 'fled': 1, 'paced': 1, 'upon': 1, 'mountains': 1, 'overhead': 1, 'hid': 1, 'his': 1, 'amid': 1, 'crowd': 1, 'stars': 1, 'yeats': 1}\n"
     ]
    }
   ],
   "source": [
    "###### We make a dictionaty with values as number of word occurences in the corpus  \n",
    "corp_dict = {}\n",
    "for m in final_list:\n",
    "    if( m in corp_dict.keys()):\n",
    "        corp_dict[m] += 1\n",
    "    else:\n",
    "        corp_dict[m]=1\n",
    "        \n",
    "print(corp_dict)"
   ]
  },
  {
   "cell_type": "code",
   "execution_count": 7,
   "id": "c267dc6b",
   "metadata": {},
   "outputs": [
    {
     "name": "stdout",
     "output_type": "stream",
     "text": [
      "{'and': 11, 'of': 6, 'the': 6, 'your': 4, 'loved': 4, 'you': 3, 'when': 2, 'are': 2, 'old': 2, 'down': 2, 'how': 2, 'love': 2, 'face': 2, 'a': 2, 'grey': 1, 'full': 1, 'sleep': 1, 'nodding': 1, 'by': 1, 'fire': 1, 'take': 1, 'this': 1, 'book': 1, 'slowly': 1, 'read': 1, 'dream': 1, 'soft': 1, 'look': 1, 'eyes': 1, 'had': 1, 'once': 1, 'their': 1, 'shadows': 1, 'deep': 1, 'many': 1, 'moments': 1, 'glad': 1, 'grace': 1, 'beauty': 1, 'with': 1, 'false': 1, 'or': 1, 'true': 1, 'but': 1, 'one': 1, 'man': 1, 'pilgrim': 1, 'soul': 1, 'in': 1, 'sorrows': 1, 'changing': 1, 'bending': 1, 'beside': 1, 'glowing': 1, 'bars': 1, 'murmur': 1, 'little': 1, 'sadly': 1, 'fled': 1, 'paced': 1, 'upon': 1, 'mountains': 1, 'overhead': 1, 'hid': 1, 'his': 1, 'amid': 1, 'crowd': 1, 'stars': 1, 'yeats': 1}\n"
     ]
    }
   ],
   "source": [
    "###### We transform the dictionaty with decending order of values so that we can find the matches in decending order \n",
    "final_dict=dict(sorted(corp_dict.items(),reverse=True, key=lambda item: item[1]))\n",
    "print(final_dict)"
   ]
  },
  {
   "cell_type": "code",
   "execution_count": 8,
   "id": "de32f3db",
   "metadata": {},
   "outputs": [],
   "source": [
    "#Finally we define the function that returns the list of matches in a given search document\n",
    "\n",
    "def match_list(input_dict,input_doc):\n",
    "    l2=input_doc\n",
    "    l1=list(input_dict.keys())\n",
    "    mat1=[]\n",
    "    for j in l1:\n",
    "        for i in range (len(l2)):\n",
    "            if l2[i]==j:\n",
    "                mat1.append(j)\n",
    "                break\n",
    "\n",
    "    return mat1"
   ]
  },
  {
   "cell_type": "code",
   "execution_count": 9,
   "id": "ee1c5bde",
   "metadata": {},
   "outputs": [],
   "source": [
    "#We provide our search doc/docs in a list \n",
    "\n",
    "search_doc=[\"This piece is usually considered to be about Yeats’ personal life.\\\n",
    "It discusses the unrequited love that existed between Yeats and someone he used to be involved with.\\\n",
    "The poem is structured as a dramatic monologue in which the speaker is addressing his once lover. \\\n",
    "Through the image of a book, Yeats is able to remind the listener that she has been loved by many, \\\n",
    "but by none like she is by one man in particular. This is a reference to the speaker, of course.\\\n",
    "He loved her completely, and not just for her beauty as others have. \\\n",
    "It is the speaker’s hope that after being reminded of these facts that she feels regret for leaving him.\"]\n",
    "\n",
    "#We clean our search doc as well with the predefined function.\n",
    "\n",
    "final_SD=cleaner(search_doc)"
   ]
  },
  {
   "cell_type": "code",
   "execution_count": 10,
   "id": "8686adf5",
   "metadata": {},
   "outputs": [
    {
     "data": {
      "text/plain": [
       "['and',\n",
       " 'of',\n",
       " 'the',\n",
       " 'loved',\n",
       " 'love',\n",
       " 'a',\n",
       " 'by',\n",
       " 'this',\n",
       " 'book',\n",
       " 'once',\n",
       " 'many',\n",
       " 'beauty',\n",
       " 'with',\n",
       " 'but',\n",
       " 'one',\n",
       " 'man',\n",
       " 'in',\n",
       " 'his',\n",
       " 'yeats']"
      ]
     },
     "execution_count": 10,
     "metadata": {},
     "output_type": "execute_result"
    }
   ],
   "source": [
    "#We use our function to find the matching keywords in the search doc and dictionary in decending order\n",
    "match_list(final_dict,final_SD)"
   ]
  },
  {
   "cell_type": "markdown",
   "id": "43ec713a",
   "metadata": {},
   "source": [
    "## Part 2: Here we use vectorization to make similarity estimates. "
   ]
  },
  {
   "cell_type": "code",
   "execution_count": 11,
   "id": "50f1335c",
   "metadata": {},
   "outputs": [],
   "source": [
    "#we define a function to vectorize documents based on our corpus\n",
    "def vectorizer(input_dict,input_doc):\n",
    "    l2=input_doc\n",
    "    l1=list(input_dict.keys())\n",
    "    mat1=[]\n",
    "    for j in l1:\n",
    "        for i in range (len(l2)):\n",
    "            if l2[i]==j:\n",
    "                mat1.append(1)\n",
    "                break\n",
    "        else:\n",
    "            mat1.append(0)\n",
    "    return mat1"
   ]
  },
  {
   "cell_type": "code",
   "execution_count": 12,
   "id": "ff375d6a",
   "metadata": {},
   "outputs": [],
   "source": [
    "doc1= [\"How many loved your moments of glad grace\"]\n",
    "\n",
    "doc2=[\"'And loved your beauty with love false or true,\"]\n",
    " \n",
    "cln_doc1=cleaner(doc1)\n",
    "\n",
    "cln_doc2=cleaner(doc2)\n",
    "    \n",
    "v1= vectorizer(final_dict,cln_doc1)\n",
    "\n",
    "v2=vectorizer(final_dict,cln_doc2)"
   ]
  },
  {
   "cell_type": "code",
   "execution_count": 13,
   "id": "310bc709",
   "metadata": {},
   "outputs": [
    {
     "name": "stdout",
     "output_type": "stream",
     "text": [
      "[0, 1, 0, 1, 1, 0, 0, 0, 0, 0, 1, 0, 0, 0, 0, 0, 0, 0, 0, 0, 0, 0, 0, 0, 0, 0, 0, 0, 0, 0, 0, 0, 0, 0, 1, 1, 1, 1, 0, 0, 0, 0, 0, 0, 0, 0, 0, 0, 0, 0, 0, 0, 0, 0, 0, 0, 0, 0, 0, 0, 0, 0, 0, 0, 0, 0, 0, 0, 0] [1, 0, 0, 1, 1, 0, 0, 0, 0, 0, 0, 1, 0, 0, 0, 0, 0, 0, 0, 0, 0, 0, 0, 0, 0, 0, 0, 0, 0, 0, 0, 0, 0, 0, 0, 0, 0, 0, 1, 1, 1, 1, 1, 0, 0, 0, 0, 0, 0, 0, 0, 0, 0, 0, 0, 0, 0, 0, 0, 0, 0, 0, 0, 0, 0, 0, 0, 0, 0]\n"
     ]
    }
   ],
   "source": [
    " #we have successfully changed these words into vectors :) where 1 means the dictionary word is available, 0 means not available\n",
    "print(v1, v2)"
   ]
  },
  {
   "cell_type": "markdown",
   "id": "5fc68549",
   "metadata": {},
   "source": [
    "#### 1. Cosine similarity using dot products "
   ]
  },
  {
   "cell_type": "code",
   "execution_count": 23,
   "id": "d85e408c",
   "metadata": {},
   "outputs": [],
   "source": [
    "from math import sqrt, pow, exp\n",
    " \n",
    "def squared_sum(x):\n",
    "    \"\"\" return 2 rounded square rooted value \"\"\"\n",
    "    return round(sqrt(sum([a*a for a in x])),2)"
   ]
  },
  {
   "cell_type": "code",
   "execution_count": 24,
   "id": "7f56aece",
   "metadata": {},
   "outputs": [
    {
     "data": {
      "text/plain": [
       "0.236"
      ]
     },
     "execution_count": 24,
     "metadata": {},
     "output_type": "execute_result"
    }
   ],
   "source": [
    "#now for calculation of cosine similarity we have the funcion:\n",
    "\n",
    "\n",
    "def cos_similarity(x,y):\n",
    "    numerator = sum(a*b for a,b in zip(x,y))\n",
    "    denominator = squared_sum(x)*squared_sum(y)\n",
    "    return round(numerator/float(denominator),3)\n",
    "\n",
    "cos_similarity(v1, v2)"
   ]
  },
  {
   "cell_type": "markdown",
   "id": "39e5d4e2",
   "metadata": {},
   "source": [
    "#### 2. Euclidian Distance using norm"
   ]
  },
  {
   "cell_type": "code",
   "execution_count": 25,
   "id": "dcd333a4",
   "metadata": {},
   "outputs": [],
   "source": [
    "def euclidean_distance(x,y):\n",
    "    \"\"\" return euclidean distance between two lists \"\"\"\n",
    "    return sqrt(sum(pow(a-b,2) for a, b in zip(x, y)))\n",
    "\n",
    "def distance_to_similarity(distance):\n",
    "    return (1/(1+distance))"
   ]
  },
  {
   "cell_type": "code",
   "execution_count": 26,
   "id": "92162645",
   "metadata": {},
   "outputs": [],
   "source": [
    "#now for calculation of euclidean_distance we have the funcion:\n",
    "dist=euclidean_distance(v1,v2)\n"
   ]
  },
  {
   "cell_type": "code",
   "execution_count": 32,
   "id": "0ef727d8",
   "metadata": {
    "scrolled": true
   },
   "outputs": [
    {
     "data": {
      "text/plain": [
       "0.21712927295533244"
      ]
     },
     "execution_count": 32,
     "metadata": {},
     "output_type": "execute_result"
    }
   ],
   "source": [
    "distance_to_similarity(dist)"
   ]
  }
 ],
 "metadata": {
  "kernelspec": {
   "display_name": "Python 3 (ipykernel)",
   "language": "python",
   "name": "python3"
  },
  "language_info": {
   "codemirror_mode": {
    "name": "ipython",
    "version": 3
   },
   "file_extension": ".py",
   "mimetype": "text/x-python",
   "name": "python",
   "nbconvert_exporter": "python",
   "pygments_lexer": "ipython3",
   "version": "3.9.12"
  }
 },
 "nbformat": 4,
 "nbformat_minor": 5
}
